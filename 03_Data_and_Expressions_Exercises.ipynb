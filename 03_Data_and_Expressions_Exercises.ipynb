{
 "cells": [
  {
   "cell_type": "markdown",
   "metadata": {},
   "source": [
    "## Programming Exercises\n",
    "\n",
    "__P1:__\n",
    "\n",
    "    Write a Python program that prompts the user for two integer values and displays the result of the first number divided by the second, with exactly two decimal places displayed.\n",
    "    \n",
    "\n",
    "__Solution:__"
   ]
  },
  {
   "cell_type": "code",
   "execution_count": null,
   "metadata": {
    "collapsed": true
   },
   "outputs": [],
   "source": []
  },
  {
   "cell_type": "markdown",
   "metadata": {},
   "source": [
    "__P2:__\n",
    "\n",
    "    Write a Python program that prompts the user for two floating-point values and displays the result of the first number divided by the second, with exactly six decimal places displayed.\n",
    "    \n",
    "    \n",
    "__Solution:__"
   ]
  },
  {
   "cell_type": "code",
   "execution_count": null,
   "metadata": {
    "collapsed": true
   },
   "outputs": [],
   "source": []
  },
  {
   "cell_type": "markdown",
   "metadata": {},
   "source": [
    "__P3:__\n",
    "\n",
    "    Write a Python program that prompts the user to enter an upper or lower case letter and displays the corresponding Unicode encoding.\n",
    "    \n",
    "__Solution:__"
   ]
  },
  {
   "cell_type": "code",
   "execution_count": null,
   "metadata": {
    "collapsed": true
   },
   "outputs": [],
   "source": []
  },
  {
   "cell_type": "markdown",
   "metadata": {},
   "source": [
    "## Development Problems\n",
    "\n",
    "__D1: Losing Your Head over Chess__ \n",
    "    \n",
    "    The game of chess is generally believed to have been invented in India in the sixth century for a ruling\n",
    "    king by one of his subjects. The king was supposedly very delighted with the game and asked the sub-\n",
    "    ject what he wanted in return. The subject, being clever, asked for one grain of wheat on the fi rst\n",
    "    square, two grains of wheat on the second square, four grains of wheat on the third square, and so forth,\n",
    "    doubling the amount on each next square. The king thought that this was a modest reward for such an\n",
    "    invention. However, the total amount of wheat would have been more than 1,000 times the current\n",
    "    world production.\n",
    "    Develop and test a Python program that calculates how much wheat this would be in pounds, using\n",
    "    the fact that a grain of wheat weighs approximately 1/7,000 of a pound.\n",
    "    \n",
    "__Solution:__"
   ]
  },
  {
   "cell_type": "code",
   "execution_count": null,
   "metadata": {
    "collapsed": true
   },
   "outputs": [],
   "source": []
  },
  {
   "cell_type": "markdown",
   "metadata": {},
   "source": [
    "__D2: Life Signs__    \n",
    "    \n",
    "    Develop and test a program that prompts the user for their age and determines approximately how many\n",
    "    breaths and how many heartbeats the person has had in their life. The average respiration (breath) rate of\n",
    "    people changes during different stages of development. Use the breath rates given below for use in your\n",
    "    program:\n",
    "                         Breaths per Minute\n",
    "    Infant               30–60 \n",
    "    1–4 years            20–30 \n",
    "    5–14 years           15–25     \n",
    "    adults               12–20\n",
    "    For heart rate, use an average of 67.5 beats per second.\n",
    "    \n",
    "__Solution:__"
   ]
  },
  {
   "cell_type": "code",
   "execution_count": null,
   "metadata": {
    "collapsed": true
   },
   "outputs": [],
   "source": []
  },
  {
   "cell_type": "code",
   "execution_count": null,
   "metadata": {
    "collapsed": true
   },
   "outputs": [],
   "source": []
  }
 ],
 "metadata": {
  "anaconda-cloud": {},
  "kernelspec": {
   "display_name": "Python [default]",
   "language": "python",
   "name": "python2"
  },
  "language_info": {
   "codemirror_mode": {
    "name": "ipython",
    "version": 2
   },
   "file_extension": ".py",
   "mimetype": "text/x-python",
   "name": "python",
   "nbconvert_exporter": "python",
   "pygments_lexer": "ipython2",
   "version": "2.7.12"
  }
 },
 "nbformat": 4,
 "nbformat_minor": 1
}
