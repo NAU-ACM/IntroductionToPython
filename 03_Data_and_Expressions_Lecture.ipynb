{
 "cells": [
  {
   "cell_type": "markdown",
   "metadata": {},
   "source": [
    "# Python Basics\n",
    "\n",
    "## Data and Expressions\n",
    "\n",
    "A __literal__ is a sequence of one or more character that stands for itself.\n",
    "\n",
    "### Numeric Literals\n",
    "\n",
    "Contains decimal point -> floating-point value\n",
    "\n",
    "Otherwise -> integer value"
   ]
  },
  {
   "cell_type": "code",
   "execution_count": 1,
   "metadata": {
    "collapsed": false
   },
   "outputs": [
    {
     "data": {
      "text/plain": [
       "float"
      ]
     },
     "execution_count": 1,
     "metadata": {},
     "output_type": "execute_result"
    }
   ],
   "source": [
    "type(1.0)"
   ]
  },
  {
   "cell_type": "code",
   "execution_count": 2,
   "metadata": {
    "collapsed": false
   },
   "outputs": [
    {
     "data": {
      "text/plain": [
       "9"
      ]
     },
     "execution_count": 2,
     "metadata": {},
     "output_type": "execute_result"
    }
   ],
   "source": [
    "3+6"
   ]
  },
  {
   "cell_type": "code",
   "execution_count": 3,
   "metadata": {
    "collapsed": false
   },
   "outputs": [
    {
     "data": {
      "text/plain": [
       "int"
      ]
     },
     "execution_count": 3,
     "metadata": {},
     "output_type": "execute_result"
    }
   ],
   "source": [
    "type(1)"
   ]
  },
  {
   "cell_type": "code",
   "execution_count": 4,
   "metadata": {
    "collapsed": false
   },
   "outputs": [
    {
     "data": {
      "text/plain": [
       "0.3333333333333333"
      ]
     },
     "execution_count": 4,
     "metadata": {},
     "output_type": "execute_result"
    }
   ],
   "source": [
    "# Limit of Precision\n",
    "1.0/3"
   ]
  },
  {
   "cell_type": "code",
   "execution_count": 5,
   "metadata": {
    "collapsed": false
   },
   "outputs": [
    {
     "data": {
      "text/plain": [
       "1.0"
      ]
     },
     "execution_count": 5,
     "metadata": {},
     "output_type": "execute_result"
    }
   ],
   "source": [
    "5.0//3"
   ]
  },
  {
   "cell_type": "code",
   "execution_count": 6,
   "metadata": {
    "collapsed": false
   },
   "outputs": [
    {
     "data": {
      "text/plain": [
       "1.0"
      ]
     },
     "execution_count": 6,
     "metadata": {},
     "output_type": "execute_result"
    }
   ],
   "source": [
    "3*(1.0/3)"
   ]
  },
  {
   "cell_type": "code",
   "execution_count": 7,
   "metadata": {
    "collapsed": false
   },
   "outputs": [
    {
     "data": {
      "text/plain": [
       "2.4"
      ]
     },
     "execution_count": 7,
     "metadata": {},
     "output_type": "execute_result"
    }
   ],
   "source": [
    "# Built-in Format Function \n",
    "12.0/5"
   ]
  },
  {
   "cell_type": "code",
   "execution_count": 8,
   "metadata": {
    "collapsed": false
   },
   "outputs": [
    {
     "data": {
      "text/plain": [
       "'2.40'"
      ]
     },
     "execution_count": 8,
     "metadata": {},
     "output_type": "execute_result"
    }
   ],
   "source": [
    "a = format(12.0/5, '.2f')\n",
    "a"
   ]
  },
  {
   "cell_type": "code",
   "execution_count": 9,
   "metadata": {
    "collapsed": false
   },
   "outputs": [
    {
     "data": {
      "text/plain": [
       "str"
      ]
     },
     "execution_count": 9,
     "metadata": {},
     "output_type": "execute_result"
    }
   ],
   "source": [
    "type(a) # It's string careful."
   ]
  },
  {
   "cell_type": "code",
   "execution_count": 10,
   "metadata": {
    "collapsed": false
   },
   "outputs": [
    {
     "data": {
      "text/plain": [
       "2.4"
      ]
     },
     "execution_count": 10,
     "metadata": {},
     "output_type": "execute_result"
    }
   ],
   "source": [
    "float(a)"
   ]
  },
  {
   "cell_type": "code",
   "execution_count": 11,
   "metadata": {
    "collapsed": false
   },
   "outputs": [
    {
     "data": {
      "text/plain": [
       "123"
      ]
     },
     "execution_count": 11,
     "metadata": {},
     "output_type": "execute_result"
    }
   ],
   "source": [
    "int('123')\n"
   ]
  },
  {
   "cell_type": "code",
   "execution_count": 12,
   "metadata": {
    "collapsed": false
   },
   "outputs": [
    {
     "data": {
      "text/plain": [
       "'13'"
      ]
     },
     "execution_count": 12,
     "metadata": {},
     "output_type": "execute_result"
    }
   ],
   "source": [
    "str(13)"
   ]
  },
  {
   "cell_type": "code",
   "execution_count": 13,
   "metadata": {
    "collapsed": false
   },
   "outputs": [
    {
     "data": {
      "text/plain": [
       "'2.40'"
      ]
     },
     "execution_count": 13,
     "metadata": {},
     "output_type": "execute_result"
    }
   ],
   "source": [
    "a"
   ]
  },
  {
   "cell_type": "code",
   "execution_count": 14,
   "metadata": {
    "collapsed": false
   },
   "outputs": [
    {
     "data": {
      "text/plain": [
       "0.7142857142857143"
      ]
     },
     "execution_count": 14,
     "metadata": {},
     "output_type": "execute_result"
    }
   ],
   "source": [
    "5.0/7"
   ]
  },
  {
   "cell_type": "code",
   "execution_count": 15,
   "metadata": {
    "collapsed": false
   },
   "outputs": [
    {
     "data": {
      "text/plain": [
       "'2.402.40'"
      ]
     },
     "execution_count": 15,
     "metadata": {},
     "output_type": "execute_result"
    }
   ],
   "source": [
    "2*a"
   ]
  },
  {
   "cell_type": "code",
   "execution_count": 16,
   "metadata": {
    "collapsed": false
   },
   "outputs": [
    {
     "data": {
      "text/plain": [
       "0.71"
      ]
     },
     "execution_count": 16,
     "metadata": {},
     "output_type": "execute_result"
    }
   ],
   "source": [
    "float(format(5.0/7, '.2f'))"
   ]
  },
  {
   "cell_type": "markdown",
   "metadata": {},
   "source": [
    "### String Literals\n",
    "\n",
    "__Strings__ represent a sequence of characters. \n",
    "\n",
    "Strings surrounded by a matching pair of either single (') or double (\") quotes. "
   ]
  },
  {
   "cell_type": "code",
   "execution_count": 17,
   "metadata": {
    "collapsed": false
   },
   "outputs": [
    {
     "name": "stdout",
     "output_type": "stream",
     "text": [
      "Hello World!\n"
     ]
    }
   ],
   "source": [
    "print('Hello World!')"
   ]
  },
  {
   "cell_type": "code",
   "execution_count": 18,
   "metadata": {
    "collapsed": false
   },
   "outputs": [
    {
     "name": "stdout",
     "output_type": "stream",
     "text": [
      "String 10 String 20\n"
     ]
    }
   ],
   "source": [
    "print('String 10 String 20')"
   ]
  },
  {
   "cell_type": "code",
   "execution_count": 19,
   "metadata": {
    "collapsed": false
   },
   "outputs": [
    {
     "data": {
      "text/plain": [
       "'String 1'"
      ]
     },
     "execution_count": 19,
     "metadata": {},
     "output_type": "execute_result"
    }
   ],
   "source": [
    "'String 1' # single quotes"
   ]
  },
  {
   "cell_type": "code",
   "execution_count": 20,
   "metadata": {
    "collapsed": false
   },
   "outputs": [
    {
     "data": {
      "text/plain": [
       "'String 2'"
      ]
     },
     "execution_count": 20,
     "metadata": {},
     "output_type": "execute_result"
    }
   ],
   "source": [
    "\"String 2\" # Double quotes"
   ]
  },
  {
   "cell_type": "code",
   "execution_count": 21,
   "metadata": {
    "collapsed": false
   },
   "outputs": [
    {
     "data": {
      "text/plain": [
       "\"Enes's String\""
      ]
     },
     "execution_count": 21,
     "metadata": {},
     "output_type": "execute_result"
    }
   ],
   "source": [
    "\"Enes's String\" # Usage of single and double together"
   ]
  },
  {
   "cell_type": "code",
   "execution_count": 22,
   "metadata": {
    "collapsed": false
   },
   "outputs": [
    {
     "data": {
      "text/plain": [
       "str"
      ]
     },
     "execution_count": 22,
     "metadata": {},
     "output_type": "execute_result"
    }
   ],
   "source": [
    "type(\"\") # Empty string"
   ]
  },
  {
   "cell_type": "code",
   "execution_count": 23,
   "metadata": {
    "collapsed": false
   },
   "outputs": [
    {
     "data": {
      "text/plain": [
       "' '"
      ]
     },
     "execution_count": 23,
     "metadata": {},
     "output_type": "execute_result"
    }
   ],
   "source": [
    "' ' # String which contains only space"
   ]
  },
  {
   "cell_type": "markdown",
   "metadata": {},
   "source": [
    "So how is computer understands the character, since language of computer is made of 1s and 0s?\n",
    "\n",
    "![ASCII Table](https://upload.wikimedia.org/wikipedia/commons/thumb/1/1b/ASCII-Table-wide.svg/1280px-ASCII-Table-wide.svg.png)\n",
    "\n",
    "There is a special encoding for character which represents a number between 0 to 127."
   ]
  },
  {
   "cell_type": "code",
   "execution_count": 24,
   "metadata": {
    "collapsed": false
   },
   "outputs": [
    {
     "data": {
      "text/plain": [
       "49"
      ]
     },
     "execution_count": 24,
     "metadata": {},
     "output_type": "execute_result"
    }
   ],
   "source": [
    "ord('1') # Returns the ASCII value of string 1"
   ]
  },
  {
   "cell_type": "code",
   "execution_count": 25,
   "metadata": {
    "collapsed": false
   },
   "outputs": [
    {
     "data": {
      "text/plain": [
       "'z'"
      ]
     },
     "execution_count": 25,
     "metadata": {},
     "output_type": "execute_result"
    }
   ],
   "source": [
    "chr(122) # Returns the character value of ASCII 122"
   ]
  },
  {
   "cell_type": "markdown",
   "metadata": {},
   "source": [
    "### Variable\n",
    "\n",
    "A variable is an identifier (name) that is associated with a value."
   ]
  },
  {
   "cell_type": "code",
   "execution_count": 26,
   "metadata": {
    "collapsed": true
   },
   "outputs": [],
   "source": [
    "num = 10"
   ]
  },
  {
   "cell_type": "code",
   "execution_count": 27,
   "metadata": {
    "collapsed": false
   },
   "outputs": [
    {
     "data": {
      "text/plain": [
       "10"
      ]
     },
     "execution_count": 27,
     "metadata": {},
     "output_type": "execute_result"
    }
   ],
   "source": [
    "num"
   ]
  },
  {
   "cell_type": "markdown",
   "metadata": {},
   "source": [
    "Variable can be assigned different values during a program's execution. \n",
    "\n",
    "Variables are assigned values by use of the assignment operator (=)"
   ]
  },
  {
   "cell_type": "code",
   "execution_count": 28,
   "metadata": {
    "collapsed": true
   },
   "outputs": [],
   "source": [
    "# Update Variable\n",
    "num = num + 1 # num += 1  "
   ]
  },
  {
   "cell_type": "code",
   "execution_count": 29,
   "metadata": {
    "collapsed": true
   },
   "outputs": [],
   "source": [
    "num = (\"Nazugum\")"
   ]
  },
  {
   "cell_type": "code",
   "execution_count": null,
   "metadata": {
    "collapsed": false
   },
   "outputs": [
    {
     "data": {
      "text/plain": [
       "str"
      ]
     },
     "execution_count": 30,
     "metadata": {},
     "output_type": "execute_result"
    }
   ],
   "source": [
    "type(num)"
   ]
  },
  {
   "cell_type": "markdown",
   "metadata": {},
   "source": [
    "Now let's learn how to assign values which comes from the user inputs."
   ]
  },
  {
   "cell_type": "code",
   "execution_count": null,
   "metadata": {
    "collapsed": false
   },
   "outputs": [],
   "source": [
    "name = input(\"What is your first name?\")"
   ]
  },
  {
   "cell_type": "code",
   "execution_count": null,
   "metadata": {
    "collapsed": false
   },
   "outputs": [],
   "source": [
    "(name + \" \")* 2"
   ]
  },
  {
   "cell_type": "code",
   "execution_count": null,
   "metadata": {
    "collapsed": false
   },
   "outputs": [],
   "source": [
    "num_credits"
   ]
  },
  {
   "cell_type": "code",
   "execution_count": null,
   "metadata": {
    "collapsed": false
   },
   "outputs": [],
   "source": [
    "num_credits = 54"
   ]
  },
  {
   "cell_type": "markdown",
   "metadata": {},
   "source": [
    "- All input is returned by the input function as as string type.\n",
    "- For the input of numeric values, the response must be converted to the appropriate type."
   ]
  },
  {
   "cell_type": "code",
   "execution_count": null,
   "metadata": {
    "collapsed": false
   },
   "outputs": [],
   "source": [
    "line = input('How many credits do you have?')"
   ]
  },
  {
   "cell_type": "code",
   "execution_count": null,
   "metadata": {
    "collapsed": false
   },
   "outputs": [],
   "source": [
    "num_credits = int(line)\n",
    "num_credits"
   ]
  },
  {
   "cell_type": "code",
   "execution_count": null,
   "metadata": {
    "collapsed": false
   },
   "outputs": [],
   "source": [
    "num_credits"
   ]
  },
  {
   "cell_type": "markdown",
   "metadata": {},
   "source": [
    "There are some restrictions on declaring variable names:\n",
    "\n",
    "- quotes not allowed\n",
    "- spaces not allowed\n",
    "- cannot begin with digit\n",
    "- should not begin with underscore"
   ]
  },
  {
   "cell_type": "code",
   "execution_count": null,
   "metadata": {
    "collapsed": false
   },
   "outputs": [],
   "source": [
    "name\" = 2"
   ]
  },
  {
   "cell_type": "code",
   "execution_count": null,
   "metadata": {
    "collapsed": false
   },
   "outputs": [],
   "source": [
    "\"name\" = \"Enes\""
   ]
  },
  {
   "cell_type": "code",
   "execution_count": null,
   "metadata": {
    "collapsed": false
   },
   "outputs": [],
   "source": [
    "name_student = \"Enes\"\n",
    "name_student"
   ]
  },
  {
   "cell_type": "code",
   "execution_count": null,
   "metadata": {
    "collapsed": false
   },
   "outputs": [],
   "source": [
    "2012name = \"Enes\""
   ]
  },
  {
   "cell_type": "code",
   "execution_count": null,
   "metadata": {
    "collapsed": false
   },
   "outputs": [],
   "source": [
    "name-enes"
   ]
  },
  {
   "cell_type": "code",
   "execution_count": null,
   "metadata": {
    "collapsed": false
   },
   "outputs": [],
   "source": [
    "name = \"Enes\"\n",
    "name"
   ]
  },
  {
   "cell_type": "markdown",
   "metadata": {},
   "source": [
    "Another important rule when it comes to usage of specific names. You cannot use predefined names. This is really important because Python won't complain when you use them but it will cause unwanted damages to your program.\n",
    "\n",
    "![Keywords](http://keefwiki.com/tech/wp-content/uploads/sites/4/2015/06/Python-keywords.png)\n"
   ]
  },
  {
   "cell_type": "markdown",
   "metadata": {},
   "source": [
    "### Apply it!\n",
    "\n",
    "<p style=color:red>\n",
    "You will write a small program using the basics I talked about above which produces the following output: \n",
    "</p>\n",
    "\n",
    "    This program will calculate a restaurant tab for a couple with a gift certificate, with a reataurant tax of 8.0%\n",
    "    Enter the amount of the gift certificate: 200\n",
    "    Enter ordered items for person 1\n",
    "    Appetizer: 5.50\n",
    "    Entree: 21.50\n",
    "    Drinks: 4.25\n",
    "    Dessert: 6.00\n",
    "    \n",
    "    Enter ordered items for person 2\n",
    "    Appetizer: 6.25\n",
    "    Entree: 18.50\n",
    "    Drinks: 6.50\n",
    "    Dessert: 5.50\n",
    "    \n",
    "    Ordered items: $ 74.00\n",
    "    Restaurant tax: $ 5.92\n",
    "    Tab: $ -120.08\n",
    "    (negative amount indicates unused amount of gift certificate)\n",
    "    \n",
    "<p style=color:red>\n",
    "You need to use input function for gift certificate, appetizer, entree, drinks, dessert \n",
    "</p>\n"
   ]
  },
  {
   "cell_type": "markdown",
   "metadata": {},
   "source": [
    "### Test Time\n",
    "\n",
    "__Question1:__ Which of the following are valid assignment statements, in which only variable k has already\n",
    "been assigned a value?\n",
    "\n",
    "1. ```n = k + 1```\n",
    "2. ```n = n + 1```\n",
    "3. ```n + k = 10```\n",
    "4. ``` n + 1 = 1```\n",
    "\n",
    "\n",
    "__Question2:__ What is the value of variable num after the following assignment statements are executed?\n",
    "\n",
    "    num = 0\n",
    "    num = num + 1\n",
    "    num += 5\n",
    "\n",
    "\n",
    "__Question3:__ Do variables num and k reference the same memory location after the following instructions are executed? (YES/NO)\n",
    "\n",
    "    num = 10\n",
    "    k = num\n",
    "    num += 1\n",
    "    \n",
    "__Question4:__ Which of the following are valid identifi ers in Python?\n",
    "\n",
    "1. ```errors```\n",
    "2. ```error_count```\n",
    "3. ```error-count```\n",
    "\n",
    "__Question5:__ Which of the following are keywords in Python?\n",
    "\n",
    "1. ```and```\n",
    "2. ```As```\n",
    "3. ```while```\n",
    "4. ```until```\n",
    "5. ```NOT```\n",
    "\n",
    "__Question6:__ Which one of the following is correct for reading and storing and integer value from the user?\n",
    "\n",
    "1. ```n = input('Enter: ')```\n",
    "2. ```n = int(input('Enter: ')```"
   ]
  },
  {
   "cell_type": "markdown",
   "metadata": {},
   "source": [
    "### Operators\n",
    "\n",
    "An operator is a symbol that represents an operation that may be performed on one or more _operands._ \n",
    "\n",
    "#### Arithmetic Operators\n",
    "\n",
    "![Arithmetic Operators](http://images.slideplayer.com/12/3592158/slides/slide_8.jpg)"
   ]
  },
  {
   "cell_type": "code",
   "execution_count": null,
   "metadata": {
    "collapsed": false
   },
   "outputs": [],
   "source": [
    "20 - 5"
   ]
  },
  {
   "cell_type": "code",
   "execution_count": null,
   "metadata": {
    "collapsed": false
   },
   "outputs": [],
   "source": [
    "-10 * 2"
   ]
  },
  {
   "cell_type": "code",
   "execution_count": null,
   "metadata": {
    "collapsed": false
   },
   "outputs": [],
   "source": [
    "2 ** 4"
   ]
  },
  {
   "cell_type": "code",
   "execution_count": null,
   "metadata": {
    "collapsed": false
   },
   "outputs": [],
   "source": [
    "2.5 ** 4"
   ]
  },
  {
   "cell_type": "code",
   "execution_count": null,
   "metadata": {
    "collapsed": false
   },
   "outputs": [],
   "source": [
    "25.0 // 10"
   ]
  },
  {
   "cell_type": "code",
   "execution_count": null,
   "metadata": {
    "collapsed": false
   },
   "outputs": [],
   "source": [
    "25 // 10"
   ]
  },
  {
   "cell_type": "code",
   "execution_count": null,
   "metadata": {
    "collapsed": false
   },
   "outputs": [],
   "source": [
    "25.0 / 10"
   ]
  },
  {
   "cell_type": "markdown",
   "metadata": {},
   "source": [
    "### Apply it!\n",
    "\n",
    "<p style=color:red>\n",
    "You will write a small program using the basics I talked about above which producing the following output: \n",
    "</p>\n",
    "\n",
    "    This program will determine your place in the universe.\n",
    "    Enter your weight in pounds: 150\n",
    "    You contain approximately 3.30e+28 atoms\n",
    "    Therefore, you comprise 3.30e-51 % of the universe\n",
    "    \n",
    "<p style=color:red>\n",
    "Use these initial variables: <br>\n",
    "num_atoms_universe = 10e80 <br>\n",
    "weight_avg_person = 70 # 70 Kg == (154 lbs) <br>\n",
    "num_atoms_avg_person = 7e27 <br>\n",
    "</p>"
   ]
  },
  {
   "cell_type": "markdown",
   "metadata": {},
   "source": [
    "### Test Time\n",
    "\n",
    "__Question1:__ Give the results for each of the following.\n",
    "\n",
    "1. ```-2 * 3```\n",
    "2. ```15 % 4```\n",
    "3. ```3 ** 2```\n",
    "\n",
    "__Question2:__ Give the exact results of each of the following division operations.\n",
    "\n",
    "1. ```5 / 4```\n",
    "2. ```5 // 4```\n",
    "3. ```5.0 // 4```\n",
    "\n",
    "__Question3:__ Which of the expressions in question 2 is an example of integer division?\n",
    "\n",
    "__Question4:__ Do any two of the expressions in question 2 evaluate to the exact same result? (YES/NO)\n",
    "\n",
    "__Question5:__ How many operands are there in the following arithmetic expression?\n",
    "\n",
    "    2 * 24 + 60 - 10\n",
    "    "
   ]
  },
  {
   "cell_type": "markdown",
   "metadata": {},
   "source": [
    "### Expression and Data Types\n",
    "\n",
    "An expression is a combination of symbols that evaluates to a value. \n",
    "\n",
    "    4 + (3 * k)\n",
    "    \n",
    "This expression has two subexpressions, ```4``` and ```(3 * k)```. Subexpression ```(3 * k)``` itself has two\n",
    "subexpressions, ```3``` and ```k```.\n",
    "\n",
    "> An expression is a combination of symbols (or single symbol) that evaluates to a value. A sub-expression is any expression that is part of a larger expression."
   ]
  },
  {
   "cell_type": "code",
   "execution_count": null,
   "metadata": {
    "collapsed": true
   },
   "outputs": [],
   "source": []
  }
 ],
 "metadata": {
  "anaconda-cloud": {},
  "kernelspec": {
   "display_name": "Python [default]",
   "language": "python",
   "name": "python2"
  },
  "language_info": {
   "codemirror_mode": {
    "name": "ipython",
    "version": 2
   },
   "file_extension": ".py",
   "mimetype": "text/x-python",
   "name": "python",
   "nbconvert_exporter": "python",
   "pygments_lexer": "ipython2",
   "version": "2.7.12"
  }
 },
 "nbformat": 4,
 "nbformat_minor": 1
}
