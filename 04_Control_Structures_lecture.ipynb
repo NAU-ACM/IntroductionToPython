{
 "cells": [
  {
   "cell_type": "markdown",
   "metadata": {},
   "source": [
    "# Control Structures\n",
    "\n",
    "A control statement is a statement that determines the control flow of a set of instructions.\n",
    "\n",
    "__Sequence control__ is an implicit form of control in which instructions are executed in the order that they are written.\n",
    "\n",
    "__Selection control__ is provided by a control statement that selectively executes instructions.\n",
    "\n",
    "__Iterative control__ is provided by an iterative control statement that repeatedly executes instructions.\n",
    "\n",
    "\n",
    "![Control Structures](https://docs.oracle.com/cd/A87860_01/doc/appdev.817/a77069/03_strua.gif)\n",
    "\n",
    "## Boolean Expressions \n",
    "\n",
    "- __Boolean__ is a specific data type consists of True and False in Python. \n",
    "- __Boolean expression__ is an expression that evaluates to a Boolean value.\n",
    "\n",
    "One way of producing Boolean values is by comparing\n",
    "\n",
    "- __Relational expressions__ are a type of Boolean expression, since they evaluate to a Boolean result.\n",
    "\n",
    "![Relational Expressions](http://www2.hawaii.edu/~takebaya/cent110/selection/relational_operators.png)"
   ]
  },
  {
   "cell_type": "code",
   "execution_count": 1,
   "metadata": {
    "collapsed": false
   },
   "outputs": [
    {
     "data": {
      "text/plain": [
       "False"
      ]
     },
     "execution_count": 1,
     "metadata": {},
     "output_type": "execute_result"
    }
   ],
   "source": [
    "num = 10 # Assignment Operator\n",
    "num == 12 # Comparison operator"
   ]
  },
  {
   "cell_type": "markdown",
   "metadata": {},
   "source": [
    "We know that we can compare number for sure, but Python also let's us compare String values based on their character encoding. "
   ]
  },
  {
   "cell_type": "code",
   "execution_count": 2,
   "metadata": {
    "collapsed": false
   },
   "outputs": [
    {
     "data": {
      "text/plain": [
       "False"
      ]
     },
     "execution_count": 2,
     "metadata": {},
     "output_type": "execute_result"
    }
   ],
   "source": [
    "10 == 20"
   ]
  },
  {
   "cell_type": "code",
   "execution_count": 3,
   "metadata": {
    "collapsed": false
   },
   "outputs": [
    {
     "data": {
      "text/plain": [
       "True"
      ]
     },
     "execution_count": 3,
     "metadata": {},
     "output_type": "execute_result"
    }
   ],
   "source": [
    "'2' < '9'"
   ]
  },
  {
   "cell_type": "code",
   "execution_count": 4,
   "metadata": {
    "collapsed": false
   },
   "outputs": [
    {
     "data": {
      "text/plain": [
       "True"
      ]
     },
     "execution_count": 4,
     "metadata": {},
     "output_type": "execute_result"
    }
   ],
   "source": [
    "'Hello' == \"Hello\""
   ]
  },
  {
   "cell_type": "code",
   "execution_count": 6,
   "metadata": {
    "collapsed": false
   },
   "outputs": [
    {
     "data": {
      "text/plain": [
       "False"
      ]
     },
     "execution_count": 6,
     "metadata": {},
     "output_type": "execute_result"
    }
   ],
   "source": [
    "'Hello' > 'Zebra'"
   ]
  },
  {
   "cell_type": "markdown",
   "metadata": {},
   "source": [
    "Another way to get Boolean values is by checking if the membership of given value is valid or not:"
   ]
  },
  {
   "cell_type": "code",
   "execution_count": 7,
   "metadata": {
    "collapsed": false
   },
   "outputs": [
    {
     "data": {
      "text/plain": [
       "True"
      ]
     },
     "execution_count": 7,
     "metadata": {},
     "output_type": "execute_result"
    }
   ],
   "source": [
    "'Dr.' in 'Dr. Madison'"
   ]
  },
  {
   "cell_type": "code",
   "execution_count": 8,
   "metadata": {
    "collapsed": false
   },
   "outputs": [
    {
     "data": {
      "text/plain": [
       "False"
      ]
     },
     "execution_count": 8,
     "metadata": {},
     "output_type": "execute_result"
    }
   ],
   "source": [
    "10 not in (10, 20, 30)"
   ]
  },
  {
   "cell_type": "markdown",
   "metadata": {},
   "source": [
    "Boolean (logical) operators , denoted by ```and```, ```or```, and ```not``` in Python. It is basically logic,"
   ]
  },
  {
   "cell_type": "code",
   "execution_count": 11,
   "metadata": {
    "collapsed": true
   },
   "outputs": [],
   "source": [
    "x = False\n",
    "y = True"
   ]
  },
  {
   "cell_type": "code",
   "execution_count": 12,
   "metadata": {
    "collapsed": false
   },
   "outputs": [
    {
     "data": {
      "text/plain": [
       "False"
      ]
     },
     "execution_count": 12,
     "metadata": {},
     "output_type": "execute_result"
    }
   ],
   "source": [
    "x and y"
   ]
  },
  {
   "cell_type": "code",
   "execution_count": 13,
   "metadata": {
    "collapsed": false
   },
   "outputs": [
    {
     "data": {
      "text/plain": [
       "True"
      ]
     },
     "execution_count": 13,
     "metadata": {},
     "output_type": "execute_result"
    }
   ],
   "source": [
    "x or y "
   ]
  },
  {
   "cell_type": "code",
   "execution_count": 14,
   "metadata": {
    "collapsed": false
   },
   "outputs": [
    {
     "data": {
      "text/plain": [
       "False"
      ]
     },
     "execution_count": 14,
     "metadata": {},
     "output_type": "execute_result"
    }
   ],
   "source": [
    "not y and not x"
   ]
  },
  {
   "cell_type": "markdown",
   "metadata": {},
   "source": [
    "The boolean operators will give us a more complex comparison statements which eventually will lead us to better control structures."
   ]
  },
  {
   "cell_type": "code",
   "execution_count": 15,
   "metadata": {
    "collapsed": true
   },
   "outputs": [],
   "source": [
    "num = 15"
   ]
  },
  {
   "cell_type": "code",
   "execution_count": 16,
   "metadata": {
    "collapsed": false
   },
   "outputs": [
    {
     "data": {
      "text/plain": [
       "False"
      ]
     },
     "execution_count": 16,
     "metadata": {},
     "output_type": "execute_result"
    }
   ],
   "source": [
    "1 <= num <= 10"
   ]
  },
  {
   "cell_type": "code",
   "execution_count": 18,
   "metadata": {
    "collapsed": false
   },
   "outputs": [
    {
     "data": {
      "text/plain": [
       "False"
      ]
     },
     "execution_count": 18,
     "metadata": {},
     "output_type": "execute_result"
    }
   ],
   "source": [
    "# Above is equals to \n",
    "1 <= num and num <= 10"
   ]
  },
  {
   "cell_type": "code",
   "execution_count": 19,
   "metadata": {
    "collapsed": false
   },
   "outputs": [
    {
     "data": {
      "text/plain": [
       "False"
      ]
     },
     "execution_count": 19,
     "metadata": {},
     "output_type": "execute_result"
    }
   ],
   "source": [
    "(10 < 0) and (10 > 2)"
   ]
  },
  {
   "cell_type": "code",
   "execution_count": 20,
   "metadata": {
    "collapsed": false
   },
   "outputs": [
    {
     "data": {
      "text/plain": [
       "False"
      ]
     },
     "execution_count": 20,
     "metadata": {},
     "output_type": "execute_result"
    }
   ],
   "source": [
    "not(True) and False"
   ]
  },
  {
   "cell_type": "code",
   "execution_count": 21,
   "metadata": {
    "collapsed": false
   },
   "outputs": [
    {
     "data": {
      "text/plain": [
       "True"
      ]
     },
     "execution_count": 21,
     "metadata": {},
     "output_type": "execute_result"
    }
   ],
   "source": [
    "not(True and False)"
   ]
  },
  {
   "cell_type": "code",
   "execution_count": 22,
   "metadata": {
    "collapsed": false
   },
   "outputs": [
    {
     "data": {
      "text/plain": [
       "False"
      ]
     },
     "execution_count": 22,
     "metadata": {},
     "output_type": "execute_result"
    }
   ],
   "source": [
    "name = 'Ann'\n",
    "name in ('Jacob', 'MaryAnn', 'Thomas')"
   ]
  },
  {
   "cell_type": "markdown",
   "metadata": {},
   "source": [
    "## Selection Control\n",
    "\n",
    "A __selection control statement__ is a control statement providing selective execution of instructions.\n",
    "\n",
    "![](https://upload.wikimedia.org/wikipedia/commons/thumb/c/c5/If-Then-Else-diagram.svg/220px-If-Then-Else-diagram.svg.png)\n",
    "\n",
    "An if statement is a selection control statement based on the value of a given Boolean expression.\n",
    "\n",
    "__Syntax:__\n",
    "\n",
    "    if condition:\n",
    "        statements\n",
    "    else:\n",
    "        statements\n",
    "        \n",
    "> You don't have to include else part."
   ]
  },
  {
   "cell_type": "code",
   "execution_count": 23,
   "metadata": {
    "collapsed": false
   },
   "outputs": [
    {
     "name": "stdout",
     "output_type": "stream",
     "text": [
      "Failing Grade\n"
     ]
    }
   ],
   "source": [
    "grade = 66\n",
    "if grade >= 70:\n",
    "    print('Passing Grade')\n",
    "else:\n",
    "    print('Failing Grade')"
   ]
  },
  {
   "cell_type": "code",
   "execution_count": 25,
   "metadata": {
    "collapsed": false
   },
   "outputs": [
    {
     "name": "stdout",
     "output_type": "stream",
     "text": [
      "Perfect Score!\n"
     ]
    }
   ],
   "source": [
    "grade = 100\n",
    "if grade == 100:\n",
    "    print('Perfect Score!')"
   ]
  },
  {
   "cell_type": "markdown",
   "metadata": {},
   "source": [
    "### Apply it!\n",
    "<p style=color:red>\n",
    "Write a small program that converts Fahrenheit to Celcius or vice-verse by getting input from user (F/C) \n",
    "</p>\n",
    "\n",
    "\n",
    "> Indentation is really important in Python since it does not use {} or ; \n",
    "\n",
    "\n",
    "Multiway selection is possible by nested if else statements:\n"
   ]
  },
  {
   "cell_type": "code",
   "execution_count": 26,
   "metadata": {
    "collapsed": false
   },
   "outputs": [
    {
     "name": "stdout",
     "output_type": "stream",
     "text": [
      "Sophomore\n"
     ]
    }
   ],
   "source": [
    "credits = 45\n",
    "if credits >= 90:\n",
    "    print('Senior')\n",
    "else:\n",
    "    if credits >= 60:\n",
    "        print('Junior')\n",
    "    else:\n",
    "        if credits >= 30:\n",
    "            print('Sophomore')\n",
    "        else:\n",
    "            if credits >= 1:\n",
    "                print('Freshman')\n",
    "            else:\n",
    "                print('* No Earned Credits *')"
   ]
  },
  {
   "cell_type": "markdown",
   "metadata": {},
   "source": [
    "However there is a better way to do this using an additional keyword: ```elif```"
   ]
  },
  {
   "cell_type": "code",
   "execution_count": 31,
   "metadata": {
    "collapsed": false
   },
   "outputs": [
    {
     "name": "stdout",
     "output_type": "stream",
     "text": [
      "Sophomore\n"
     ]
    }
   ],
   "source": [
    "credits = 45\n",
    "if credits >= 90:\n",
    "    print('Senior')\n",
    "elif credits >= 60:\n",
    "    print('Junior')\n",
    "elif grade >= 30:\n",
    "    print('Sophomore')\n",
    "elif grade >= 1:\n",
    "    print('Freshman')\n",
    "else:\n",
    "    print('* No Earned Credits *')"
   ]
  },
  {
   "cell_type": "markdown",
   "metadata": {},
   "source": [
    "### Apply It!\n",
    "\n",
    "<p style=color:red>\n",
    "Write a small program that prints the day of the specific month of a year. The output will look like this: \n",
    "</p>\n",
    "\n",
    "__Test 1:__\n",
    "\n",
    "    This program will determine the number of days in a given month\n",
    "    \n",
    "    Enter the month (1-12): 14\n",
    "    *Invalid Value Entered -14*\n",
    "    \n",
    "\n",
    "__Test 2:__\n",
    "\n",
    "    This program will determine the number of days in a given month\n",
    "    \n",
    "    Enter the month (1-12): 2\n",
    "    Please enter the year (e.g., 2010): 2000\n",
    "    There are 29 days in the month\n",
    "    \n",
    "<p style=color:red>\n",
    "Use if and elif statements\n",
    "</p>\n",
    "\n",
    "Hint1:\n",
    "<p style=color:white>\n",
    "The days of the month are fixed regardless of the year, except February. <br>\n",
    "\n",
    "Check for 2. \n",
    "</p>\n",
    "\n",
    "Hint2:\n",
    "<p style=color:white>\n",
    "If the year is divisible by 4 but is also divisible by 100, then it is not a leap year— unless, it is also divisible by 400, then it is.\n",
    "</p>\n",
    "\n",
    "Hint3:\n",
    "<p style=color:white>\n",
    "(year % 4 == 0) and (not (year % 100 == 0) or (year % 400 == 0))\n",
    "</p>\n"
   ]
  },
  {
   "cell_type": "markdown",
   "metadata": {},
   "source": [
    "## Iterative Control\n",
    "\n",
    "An __iterative control statement__ is a control statement providing the repeated execution of a set of instructions.\n",
    "\n",
    "![](http://www.tenouk.com/Module6_files/programcontrol021.png)\n",
    "\n",
    "Because of the repeated execution, iterative control structures are commonly referred to as __“loops”__ and that's how I am going to name them :)\n",
    "\n",
    "\n",
    "A __while statement__ is an iterative control statement that repeatedly executes a set of statements _based on a provided Boolean expression (condition)_.\n",
    "\n",
    "__Syntax__:\n",
    "\n",
    "    while condition:\n",
    "        statement\n"
   ]
  },
  {
   "cell_type": "code",
   "execution_count": 37,
   "metadata": {
    "collapsed": false
   },
   "outputs": [
    {
     "name": "stdout",
     "output_type": "stream",
     "text": [
      "Enter value: 10\n"
     ]
    }
   ],
   "source": [
    "total = 0\n",
    "i = 1\n",
    "n = int(input('Enter value: '))"
   ]
  },
  {
   "cell_type": "code",
   "execution_count": 40,
   "metadata": {
    "collapsed": false
   },
   "outputs": [
    {
     "name": "stdout",
     "output_type": "stream",
     "text": [
      "55\n"
     ]
    }
   ],
   "source": [
    "while i <= n:\n",
    "    total += i\n",
    "    i += 1\n",
    "print(total)"
   ]
  },
  {
   "cell_type": "markdown",
   "metadata": {},
   "source": [
    "As long as the condition of a while statement is true, the statements within the loop are (re)executed."
   ]
  },
  {
   "cell_type": "code",
   "execution_count": 39,
   "metadata": {
    "collapsed": false
   },
   "outputs": [
    {
     "name": "stdout",
     "output_type": "stream",
     "text": [
      "1\n",
      "3\n",
      "6\n",
      "10\n",
      "15\n",
      "21\n",
      "28\n",
      "36\n",
      "45\n",
      "55\n"
     ]
    }
   ],
   "source": [
    "n = 10\n",
    "tot = 0\n",
    "i = 1\n",
    "while i <= n:\n",
    "    tot = tot + i \n",
    "    i = i + 1\n",
    "    print(tot)"
   ]
  },
  {
   "cell_type": "markdown",
   "metadata": {},
   "source": [
    "An __infinite loop__ is an iterative control structure that never terminates (or eventually terminates with a system error). Usually programming errors\n",
    "\n",
    "let's inspect the following snippet:\n",
    "\n",
    "```Python\n",
    "# add up first n integers\n",
    "tot = 0\n",
    "current = 1\n",
    "n =  int(input('Enter value: ')\n",
    "while current <= n:\n",
    "    tot = tot + current\n",
    "```\n",
    "If your program got stuck in infinite loop you can use special keyboard interruption such as ```ctrl+C```-\n"
   ]
  },
  {
   "cell_type": "markdown",
   "metadata": {},
   "source": [
    "### Apply It!\n",
    "\n",
    "<p style=color:red>\n",
    "Write a small program that displays a random value between 1 and 99 cents, and ask user to enter a set of coins that sums exactly to the amount shown.You should use while loop, if statement, Boolean Flag, random number generator The output will look like this: \n",
    "</p>\n",
    "\n",
    "    The purpose of this exercise is to enter a number of coin values that add up to a displayed target value. \n",
    "    \n",
    "    Enter coins values as 1-penny, 5-nickel, 10-dime, and 25-quarter.\n",
    "    Hit return/enter after the last entered coin value. \n",
    "    ------------------\n",
    "    Enter coins that add up to 63 cents, one per line. \n",
    "    \n",
    "    Enter first coin: 25\n",
    "    Enter next coin: 25\n",
    "    Enter next coin: 10\n",
    "    Enter next coin: \n",
    "    Sorry - you only entered 60 cents.\n",
    "    \n",
    "    Try again (y/n)?: y  \n",
    "    Enter coins that add up to 21 cents, one per line. \n",
    "    \n",
    "    Enter first coin: 11\n",
    "    Invalid entry\n",
    "    Enter next coin: 10\n",
    "    Enter next coin: 10\n",
    "    Enter next coin: 5\n",
    "    Sorry - total amount exceeds 21 cents.\n",
    "    \n",
    "    Try again (y/n)?: y\n",
    "    Enter coins that add up to 83 cents, one per line. \n",
    "    \n",
    "    Enter first coin: 25\n",
    "    Enter next coin: 25\n",
    "    Enter next coin: 25\n",
    "    Enter next coin: 5\n",
    "    Enter next coin: 1\n",
    "    Enter next coin: 1\n",
    "    Enter next coin: 1\n",
    "    Enter next coin:\n",
    "    Correct!\n",
    "    \n",
    "    Try again (y/n)?: n\n",
    "    Thanks for playing ... goodbye"
   ]
  },
  {
   "cell_type": "code",
   "execution_count": null,
   "metadata": {
    "collapsed": true
   },
   "outputs": [],
   "source": []
  }
 ],
 "metadata": {
  "anaconda-cloud": {},
  "kernelspec": {
   "display_name": "Python [default]",
   "language": "python",
   "name": "python2"
  },
  "language_info": {
   "codemirror_mode": {
    "name": "ipython",
    "version": 2
   },
   "file_extension": ".py",
   "mimetype": "text/x-python",
   "name": "python",
   "nbconvert_exporter": "python",
   "pygments_lexer": "ipython2",
   "version": "2.7.12"
  }
 },
 "nbformat": 4,
 "nbformat_minor": 1
}
