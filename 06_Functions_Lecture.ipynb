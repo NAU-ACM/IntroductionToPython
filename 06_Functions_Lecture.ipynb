{
 "cells": [
  {
   "cell_type": "markdown",
   "metadata": {},
   "source": [
    "# Functions\n",
    "\n",
    "Sometimes what we have to do is to write long and complex solutions to solve our problems and without the help of __functions__ the task will be really complicated. In order to manage the complexity of a large problem, we have to broke it down into smaller subproblems.\n",
    "\n",
    "That's exactyl what functions are doing for us. The large program is divided into manageable pieces called ```program routines``` for us we focus particularly functions.\n",
    "\n",
    "We have been using some built-in function such as ```range``` and ```len```, but now we will implement our own functions to make things less complex. \n",
    "\n",
    "- A __routine__ is named group of instructions performing some task.\n",
    "- A routine can be __invoked__(called) as many times as needed. \n",
    "- A __function__ is Python's version of a program routine.\n",
    "- Some functions are designed to return a value, while other are designed for other purposes. \n",
    "\n",
    "![Basic Function Syntax](http://www.voidspace.org.uk/python/weblog/images/basic-function-tartley.png)"
   ]
  },
  {
   "cell_type": "markdown",
   "metadata": {},
   "source": [
    "```Python \n",
    "def average(n1, n2, n3): # Function Header\n",
    "    # Function Body\n",
    "    res = (n1+n2+n3)/3.0\n",
    "    return res\n",
    "```\n",
    "\n",
    "- ```def``` -> Keyword for functions (define)\n",
    "- ```average``` -> identifier, which is the function's name\n",
    "- ```(n1, n2, n3)``` -> list of identifiers called __formal parameters__ or simply __parameters__\n",
    "\n",
    "\n",
    "When we use functions we call the function with __actual arguments__ which replaces the parameters.\n",
    "\n",
    "```Python\n",
    "num1 = 10\n",
    "num2 = 25\n",
    "num3 = 16\n",
    "\n",
    "print(average(num1, num2, num3))\n",
    "```"
   ]
  },
  {
   "cell_type": "code",
   "execution_count": 2,
   "metadata": {
    "collapsed": false
   },
   "outputs": [
    {
     "name": "stdout",
     "output_type": "stream",
     "text": [
      "15625\n"
     ]
    }
   ],
   "source": [
    "def power(n1, n2):\n",
    "    return n1 ** n2\n",
    "\n",
    "print(power(5, 6))"
   ]
  },
  {
   "cell_type": "markdown",
   "metadata": {},
   "source": [
    "A __value-returing function__ is a program routine called for it's return function like we used in examples above.\n",
    "\n",
    "```Python\n",
    "def power(n1, n2):\n",
    "    return n1 ** n2\n",
    "```\n",
    "\n",
    "A __non-value-returning function__ is called not for a returned value, but for its side effects. \n"
   ]
  },
  {
   "cell_type": "code",
   "execution_count": 3,
   "metadata": {
    "collapsed": false
   },
   "outputs": [
    {
     "name": "stdout",
     "output_type": "stream",
     "text": [
      "This program will do this: \n"
     ]
    }
   ],
   "source": [
    "def displayWelcome():\n",
    "    print('This program will do this: ')\n",
    "displayWelcome()"
   ]
  },
  {
   "cell_type": "markdown",
   "metadata": {},
   "source": [
    "### Apply It!\n",
    "\n",
    "\n",
    "<p style=color:red>\n",
    "Write the Temperature Conversion program again, this time with the help of functions. But this time you will have to print more than one values between given degree to given degree, check the output:\n",
    "</p>\n",
    "\n",
    "    This program will convert a range of temperatures\n",
    "    Enter (F) to convert Fahrenheit to Celsius\n",
    "    Enter (C) to convert Celcius to Fahrenheit\n",
    "\n",
    "    Enter selection: F\n",
    "    Enter starting temperature to convert: 65\n",
    "    Enter ending temperature to convert: 95\n",
    "    \n",
    "      Degrees   Degrees\n",
    "    Fahrenheit  Celsius\n",
    "        65.0      18.3\n",
    "        66.0      18.9\n",
    "        67.0      19.4\n",
    "          .        .\n",
    "          .        .\n",
    "          .        .\n",
    "        94.0      34.4\n",
    "        95.0      35.0"
   ]
  },
  {
   "cell_type": "markdown",
   "metadata": {},
   "source": [
    ">> Add More "
   ]
  },
  {
   "cell_type": "code",
   "execution_count": null,
   "metadata": {
    "collapsed": true
   },
   "outputs": [],
   "source": []
  }
 ],
 "metadata": {
  "anaconda-cloud": {},
  "kernelspec": {
   "display_name": "Python [default]",
   "language": "python",
   "name": "python2"
  },
  "language_info": {
   "codemirror_mode": {
    "name": "ipython",
    "version": 2
   },
   "file_extension": ".py",
   "mimetype": "text/x-python",
   "name": "python",
   "nbconvert_exporter": "python",
   "pygments_lexer": "ipython2",
   "version": "2.7.12"
  }
 },
 "nbformat": 4,
 "nbformat_minor": 1
}
