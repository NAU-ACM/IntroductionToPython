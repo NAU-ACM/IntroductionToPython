{
 "cells": [
  {
   "cell_type": "markdown",
   "metadata": {},
   "source": [
    "## Python Objects and Their Use\n",
    "\n",
    "With today's lesson we will start learning object oriented in Python by introducing Objects in Python. \n",
    "\n",
    "- Objects are the fundamental component of object-oriented programming.\n",
    "\n",
    "In this lesson we will discuss about the Objects only, in later lectures I will introduce you the Object Oriented Python. \n",
    "\n",
    "- All objects have certain __attributes__ and __behavior__.\n",
    "\n",
    "Let's examine the real life example: Our object is a Car;\n",
    "\n",
    "__Attributes:__\n",
    "\n",
    "- It's color\n",
    "- Number of miles driven\n",
    "- current location\n",
    "\n",
    "__Behaviours:__\n",
    "\n",
    "- Driving the car (Change the miles driven, change location)\n",
    "- Painting the car (Changing the color)\n",
    "\n",
    "In similar fashion, Objects in computer science contains a set of attributes, stored in a set of __instance variables__, and a set of functions called __methods__ that provide its behaviour. \n",
    "\n",
    "\n",
    "For instance, when we talked about lists, we mentioned ```sort(list)``` function. It's a procerdural programming approach with two distinct entities a sort function and a list to pass it. \n",
    "\n",
    "But in Object-oriented programming approach, the ```sort``` routine would be part of the object containing the list like other methods for lists;\n",
    "\n",
    "- ```append(x)```\n",
    "- ```remove(x)```\n",
    "- ```reverse()```\n",
    "- ```sort()```\n",
    "\n"
   ]
  },
  {
   "cell_type": "code",
   "execution_count": 5,
   "metadata": {
    "collapsed": true
   },
   "outputs": [],
   "source": [
    "lst = [10, 4, 7, 8, 9, 13, 1, 0, 78, 5, 58]"
   ]
  },
  {
   "cell_type": "code",
   "execution_count": 6,
   "metadata": {
    "collapsed": false
   },
   "outputs": [
    {
     "data": {
      "text/plain": [
       "[10, 4, 7, 8, 9, 13, 1, 0, 78, 5, 58, 55]"
      ]
     },
     "execution_count": 6,
     "metadata": {},
     "output_type": "execute_result"
    }
   ],
   "source": [
    "lst.append(55)\n",
    "lst"
   ]
  },
  {
   "cell_type": "code",
   "execution_count": 7,
   "metadata": {
    "collapsed": false
   },
   "outputs": [
    {
     "data": {
      "text/plain": [
       "[10, 7, 8, 9, 13, 1, 0, 78, 5, 58, 55]"
      ]
     },
     "execution_count": 7,
     "metadata": {},
     "output_type": "execute_result"
    }
   ],
   "source": [
    "lst.remove(4)\n",
    "lst"
   ]
  },
  {
   "cell_type": "code",
   "execution_count": 8,
   "metadata": {
    "collapsed": false
   },
   "outputs": [
    {
     "data": {
      "text/plain": [
       "[55, 58, 5, 78, 0, 1, 13, 9, 8, 7, 10]"
      ]
     },
     "execution_count": 8,
     "metadata": {},
     "output_type": "execute_result"
    }
   ],
   "source": [
    "lst.reverse()\n",
    "lst"
   ]
  },
  {
   "cell_type": "code",
   "execution_count": 9,
   "metadata": {
    "collapsed": false
   },
   "outputs": [
    {
     "data": {
      "text/plain": [
       "[0, 1, 5, 7, 8, 9, 10, 13, 55, 58, 78]"
      ]
     },
     "execution_count": 9,
     "metadata": {},
     "output_type": "execute_result"
    }
   ],
   "source": [
    "lst.sort()\n",
    "lst"
   ]
  },
  {
   "cell_type": "markdown",
   "metadata": {},
   "source": [
    "---\n",
    "\n",
    "In Python, objects are represented as a _reference_ to an object in memory.\n",
    "\n",
    "A __reference__ is a value that references, or “points to,” the location of another entity.T hus, when a new object in Python is created, two entities are stored—the object, and a variable holding a reference to the object. All access to the object is through the reference value.\n",
    "\n",
    "We can get the reference value of a variable (that is, the location in which the corresponding object is stored) by use of __built-in function ```id```__."
   ]
  },
  {
   "cell_type": "code",
   "execution_count": 19,
   "metadata": {
    "collapsed": false
   },
   "outputs": [
    {
     "data": {
      "text/plain": [
       "26488992"
      ]
     },
     "execution_count": 19,
     "metadata": {},
     "output_type": "execute_result"
    }
   ],
   "source": [
    "n = 10\n",
    "id(n)"
   ]
  },
  {
   "cell_type": "code",
   "execution_count": 20,
   "metadata": {
    "collapsed": false
   },
   "outputs": [
    {
     "data": {
      "text/plain": [
       "26488992"
      ]
     },
     "execution_count": 20,
     "metadata": {},
     "output_type": "execute_result"
    }
   ],
   "source": [
    "k = 10\n",
    "id(k)"
   ]
  },
  {
   "cell_type": "code",
   "execution_count": 22,
   "metadata": {
    "collapsed": false
   },
   "outputs": [
    {
     "data": {
      "text/plain": [
       "26488752"
      ]
     },
     "execution_count": 22,
     "metadata": {},
     "output_type": "execute_result"
    }
   ],
   "source": [
    "s = 20\n",
    "id(s)"
   ]
  },
  {
   "cell_type": "markdown",
   "metadata": {},
   "source": [
    "After introducing the basic concept of objects, now we can continue exploring Python. In this section we will look at what is modular desing, why is important and how to do it in Python\n",
    "\n",
    "## Modular Design\n",
    "\n",
    "__Modular Design for Orbiter Flight Computer Software__:\n",
    "\n",
    "![Modular Design for Orbiter Flight Computer Software](https://history.nasa.gov/computers/p114.jpg)\n",
    "\n",
    "An important aspect of well-designed software is that programs are designed as a collection of modules. The term _“module”_ broadly speaking, refers to the design and/or implementation of specific functionality to be incorporated into a program.While an individual function may be considered a module, modules generally consists of a collection of functions (or other entities).\n",
    "\n",
    "\n",
    "Every module needs to provide a specifi cation of how it is to be used. This is referred to as the module’s __interface__.\n",
    "\n",
    "A __docstring__ is a string literal denoted by triple quotes given as the first line of certain program elements."
   ]
  },
  {
   "cell_type": "code",
   "execution_count": 27,
   "metadata": {
    "collapsed": true
   },
   "outputs": [],
   "source": [
    "def numPrimes(start, end):\n",
    "    \"\"\" Returns the number of primes between start and end. \"\"\"\n",
    "    return 0"
   ]
  },
  {
   "cell_type": "code",
   "execution_count": 28,
   "metadata": {
    "collapsed": false
   },
   "outputs": [
    {
     "name": "stdout",
     "output_type": "stream",
     "text": [
      " Returns the number of primes between start and end. \n"
     ]
    }
   ],
   "source": [
    "print(numPrimes.__doc__)"
   ]
  },
  {
   "cell_type": "markdown",
   "metadata": {},
   "source": [
    "- A __Python module__ is a file containing Python definitions and statements. \n",
    "- The Python Standard Library contains a set of predefined __standard (built-in) modules__.\n",
    "\n",
    "---\n",
    "\n",
    "- A __namespace__ provides a context for a set of identifiers. Every module in Python has its own namespace. \n",
    "- A __name clash__ is when two otherwise distinct entities with the same identifier become part of the same scope.\n",
    "\n",
    "![Name Clash](https://raw.githubusercontent.com/NAU-ACM/IntroductionToPython/master/images/name_clash.png)\n",
    "\n",
    "\n",
    "![Namespaces](https://raw.githubusercontent.com/NAU-ACM/IntroductionToPython/master/images/namespaces.png)\n",
    "\n",
    "---\n",
    "\n",
    "With the ```import modulename``` form of import in Python, the namespace of the imported module becomes available to, but does not become part of, the namespace of the importing module."
   ]
  },
  {
   "cell_type": "code",
   "execution_count": 29,
   "metadata": {
    "collapsed": false
   },
   "outputs": [
    {
     "ename": "NameError",
     "evalue": "name 'factortial' is not defined",
     "output_type": "error",
     "traceback": [
      "\u001b[0;31m---------------------------------------------------------------------------\u001b[0m",
      "\u001b[0;31mNameError\u001b[0m                                 Traceback (most recent call last)",
      "\u001b[0;32m<ipython-input-29-b7fec7ccd69b>\u001b[0m in \u001b[0;36m<module>\u001b[0;34m()\u001b[0m\n\u001b[1;32m      1\u001b[0m \u001b[0;32mimport\u001b[0m \u001b[0mmath\u001b[0m\u001b[0;34m\u001b[0m\u001b[0m\n\u001b[0;32m----> 2\u001b[0;31m \u001b[0mfactortial\u001b[0m\u001b[0;34m(\u001b[0m\u001b[0;36m5\u001b[0m\u001b[0;34m)\u001b[0m\u001b[0;34m\u001b[0m\u001b[0m\n\u001b[0m",
      "\u001b[0;31mNameError\u001b[0m: name 'factortial' is not defined"
     ]
    }
   ],
   "source": [
    "import math\n",
    "factortial(5)"
   ]
  },
  {
   "cell_type": "code",
   "execution_count": 30,
   "metadata": {
    "collapsed": false
   },
   "outputs": [
    {
     "data": {
      "text/plain": [
       "120"
      ]
     },
     "execution_count": 30,
     "metadata": {},
     "output_type": "execute_result"
    }
   ],
   "source": [
    "import math \n",
    "math.factorial(5)"
   ]
  },
  {
   "cell_type": "markdown",
   "metadata": {},
   "source": [
    "### The  \"from-import\" Form of Import\n",
    "\n",
    "With the ```from-import``` form of import, imported identifiers become part of the importing module’s namespace. Because of the possibility of name clashes, ```import modulename``` is the preferred form of import in Python."
   ]
  },
  {
   "cell_type": "code",
   "execution_count": 32,
   "metadata": {
    "collapsed": false
   },
   "outputs": [
    {
     "data": {
      "text/plain": [
       "120"
      ]
     },
     "execution_count": 32,
     "metadata": {},
     "output_type": "execute_result"
    }
   ],
   "source": [
    "from math import factorial\n",
    "factorial(5) # Works but vulnerable to name clashes"
   ]
  },
  {
   "cell_type": "code",
   "execution_count": 33,
   "metadata": {
    "collapsed": true
   },
   "outputs": [],
   "source": [
    "def factorial(n):\n",
    "    print('my factorial function')"
   ]
  },
  {
   "cell_type": "code",
   "execution_count": 35,
   "metadata": {
    "collapsed": false
   },
   "outputs": [
    {
     "name": "stdout",
     "output_type": "stream",
     "text": [
      "my factorial function\n"
     ]
    }
   ],
   "source": [
    "factorial(5) # It's not what I wanted"
   ]
  },
  {
   "cell_type": "code",
   "execution_count": 36,
   "metadata": {
    "collapsed": false
   },
   "outputs": [
    {
     "data": {
      "text/plain": [
       "120"
      ]
     },
     "execution_count": 36,
     "metadata": {},
     "output_type": "execute_result"
    }
   ],
   "source": [
    "math.factorial(5)"
   ]
  },
  {
   "cell_type": "code",
   "execution_count": 37,
   "metadata": {
    "collapsed": false
   },
   "outputs": [
    {
     "data": {
      "text/plain": [
       "120"
      ]
     },
     "execution_count": 37,
     "metadata": {},
     "output_type": "execute_result"
    }
   ],
   "source": [
    "from math import factorial as fact\n",
    "fact(5)"
   ]
  },
  {
   "cell_type": "code",
   "execution_count": 38,
   "metadata": {
    "collapsed": true
   },
   "outputs": [],
   "source": [
    "def factorial(n):\n",
    "    print('my factorial function')"
   ]
  },
  {
   "cell_type": "code",
   "execution_count": 39,
   "metadata": {
    "collapsed": false
   },
   "outputs": [
    {
     "name": "stdout",
     "output_type": "stream",
     "text": [
      "my factorial function\n"
     ]
    }
   ],
   "source": [
    "factorial(5)"
   ]
  },
  {
   "cell_type": "code",
   "execution_count": 40,
   "metadata": {
    "collapsed": false
   },
   "outputs": [
    {
     "data": {
      "text/plain": [
       "120"
      ]
     },
     "execution_count": 40,
     "metadata": {},
     "output_type": "execute_result"
    }
   ],
   "source": [
    "fact(5)"
   ]
  }
 ],
 "metadata": {
  "anaconda-cloud": {},
  "kernelspec": {
   "display_name": "Python [default]",
   "language": "python",
   "name": "python2"
  },
  "language_info": {
   "codemirror_mode": {
    "name": "ipython",
    "version": 2
   },
   "file_extension": ".py",
   "mimetype": "text/x-python",
   "name": "python",
   "nbconvert_exporter": "python",
   "pygments_lexer": "ipython2",
   "version": "2.7.12"
  }
 },
 "nbformat": 4,
 "nbformat_minor": 1
}
